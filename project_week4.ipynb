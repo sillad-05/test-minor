{
 "cells": [
  {
   "cell_type": "code",
   "id": "initial_id",
   "metadata": {
    "collapsed": true,
    "ExecuteTime": {
     "end_time": "2025-07-13T18:15:23.176288Z",
     "start_time": "2025-07-13T18:15:21.883645Z"
    }
   },
   "source": "import pandas as pd",
   "outputs": [],
   "execution_count": 3
  },
  {
   "metadata": {
    "ExecuteTime": {
     "end_time": "2025-07-13T18:15:24.146758Z",
     "start_time": "2025-07-13T18:15:24.106731Z"
    }
   },
   "cell_type": "code",
   "source": "df=pd.read_csv('results.csv')",
   "id": "576c1f0f04c37c26",
   "outputs": [],
   "execution_count": 4
  },
  {
   "metadata": {
    "ExecuteTime": {
     "end_time": "2025-07-13T15:46:19.702282Z",
     "start_time": "2025-07-13T15:46:19.661529Z"
    }
   },
   "cell_type": "code",
   "source": "df",
   "id": "98bf55ca1d303d5e",
   "outputs": [
    {
     "data": {
      "text/plain": [
       "     Roll_no  Hindi  English  Science  Maths  History  Geograpgy  Total  \\\n",
       "0          1     94       56        4     67       91         50    362   \n",
       "1          2      7       85       76     99       60         25    352   \n",
       "2          3     88       46       59     94       52         38    377   \n",
       "3          4     39       81       37     38        6         54    255   \n",
       "4          5     51       43       14     53       64         59    284   \n",
       "..       ...    ...      ...      ...    ...      ...        ...    ...   \n",
       "995      996     42       62       25     87       51         68    335   \n",
       "996      997      9       83       70     14       11         78    265   \n",
       "997      998     23       82       31     42       84         52    314   \n",
       "998      999     75       78       68     33       79         91    424   \n",
       "999     1000     72       25       74     89       91         27    378   \n",
       "\n",
       "     Gender  \n",
       "0    Female  \n",
       "1    Female  \n",
       "2    Female  \n",
       "3    Female  \n",
       "4    Female  \n",
       "..      ...  \n",
       "995    Male  \n",
       "996    Male  \n",
       "997    Male  \n",
       "998    Male  \n",
       "999    Male  \n",
       "\n",
       "[1000 rows x 9 columns]"
      ],
      "text/html": [
       "<div>\n",
       "<style scoped>\n",
       "    .dataframe tbody tr th:only-of-type {\n",
       "        vertical-align: middle;\n",
       "    }\n",
       "\n",
       "    .dataframe tbody tr th {\n",
       "        vertical-align: top;\n",
       "    }\n",
       "\n",
       "    .dataframe thead th {\n",
       "        text-align: right;\n",
       "    }\n",
       "</style>\n",
       "<table border=\"1\" class=\"dataframe\">\n",
       "  <thead>\n",
       "    <tr style=\"text-align: right;\">\n",
       "      <th></th>\n",
       "      <th>Roll_no</th>\n",
       "      <th>Hindi</th>\n",
       "      <th>English</th>\n",
       "      <th>Science</th>\n",
       "      <th>Maths</th>\n",
       "      <th>History</th>\n",
       "      <th>Geograpgy</th>\n",
       "      <th>Total</th>\n",
       "      <th>Gender</th>\n",
       "    </tr>\n",
       "  </thead>\n",
       "  <tbody>\n",
       "    <tr>\n",
       "      <th>0</th>\n",
       "      <td>1</td>\n",
       "      <td>94</td>\n",
       "      <td>56</td>\n",
       "      <td>4</td>\n",
       "      <td>67</td>\n",
       "      <td>91</td>\n",
       "      <td>50</td>\n",
       "      <td>362</td>\n",
       "      <td>Female</td>\n",
       "    </tr>\n",
       "    <tr>\n",
       "      <th>1</th>\n",
       "      <td>2</td>\n",
       "      <td>7</td>\n",
       "      <td>85</td>\n",
       "      <td>76</td>\n",
       "      <td>99</td>\n",
       "      <td>60</td>\n",
       "      <td>25</td>\n",
       "      <td>352</td>\n",
       "      <td>Female</td>\n",
       "    </tr>\n",
       "    <tr>\n",
       "      <th>2</th>\n",
       "      <td>3</td>\n",
       "      <td>88</td>\n",
       "      <td>46</td>\n",
       "      <td>59</td>\n",
       "      <td>94</td>\n",
       "      <td>52</td>\n",
       "      <td>38</td>\n",
       "      <td>377</td>\n",
       "      <td>Female</td>\n",
       "    </tr>\n",
       "    <tr>\n",
       "      <th>3</th>\n",
       "      <td>4</td>\n",
       "      <td>39</td>\n",
       "      <td>81</td>\n",
       "      <td>37</td>\n",
       "      <td>38</td>\n",
       "      <td>6</td>\n",
       "      <td>54</td>\n",
       "      <td>255</td>\n",
       "      <td>Female</td>\n",
       "    </tr>\n",
       "    <tr>\n",
       "      <th>4</th>\n",
       "      <td>5</td>\n",
       "      <td>51</td>\n",
       "      <td>43</td>\n",
       "      <td>14</td>\n",
       "      <td>53</td>\n",
       "      <td>64</td>\n",
       "      <td>59</td>\n",
       "      <td>284</td>\n",
       "      <td>Female</td>\n",
       "    </tr>\n",
       "    <tr>\n",
       "      <th>...</th>\n",
       "      <td>...</td>\n",
       "      <td>...</td>\n",
       "      <td>...</td>\n",
       "      <td>...</td>\n",
       "      <td>...</td>\n",
       "      <td>...</td>\n",
       "      <td>...</td>\n",
       "      <td>...</td>\n",
       "      <td>...</td>\n",
       "    </tr>\n",
       "    <tr>\n",
       "      <th>995</th>\n",
       "      <td>996</td>\n",
       "      <td>42</td>\n",
       "      <td>62</td>\n",
       "      <td>25</td>\n",
       "      <td>87</td>\n",
       "      <td>51</td>\n",
       "      <td>68</td>\n",
       "      <td>335</td>\n",
       "      <td>Male</td>\n",
       "    </tr>\n",
       "    <tr>\n",
       "      <th>996</th>\n",
       "      <td>997</td>\n",
       "      <td>9</td>\n",
       "      <td>83</td>\n",
       "      <td>70</td>\n",
       "      <td>14</td>\n",
       "      <td>11</td>\n",
       "      <td>78</td>\n",
       "      <td>265</td>\n",
       "      <td>Male</td>\n",
       "    </tr>\n",
       "    <tr>\n",
       "      <th>997</th>\n",
       "      <td>998</td>\n",
       "      <td>23</td>\n",
       "      <td>82</td>\n",
       "      <td>31</td>\n",
       "      <td>42</td>\n",
       "      <td>84</td>\n",
       "      <td>52</td>\n",
       "      <td>314</td>\n",
       "      <td>Male</td>\n",
       "    </tr>\n",
       "    <tr>\n",
       "      <th>998</th>\n",
       "      <td>999</td>\n",
       "      <td>75</td>\n",
       "      <td>78</td>\n",
       "      <td>68</td>\n",
       "      <td>33</td>\n",
       "      <td>79</td>\n",
       "      <td>91</td>\n",
       "      <td>424</td>\n",
       "      <td>Male</td>\n",
       "    </tr>\n",
       "    <tr>\n",
       "      <th>999</th>\n",
       "      <td>1000</td>\n",
       "      <td>72</td>\n",
       "      <td>25</td>\n",
       "      <td>74</td>\n",
       "      <td>89</td>\n",
       "      <td>91</td>\n",
       "      <td>27</td>\n",
       "      <td>378</td>\n",
       "      <td>Male</td>\n",
       "    </tr>\n",
       "  </tbody>\n",
       "</table>\n",
       "<p>1000 rows × 9 columns</p>\n",
       "</div>"
      ]
     },
     "execution_count": 3,
     "metadata": {},
     "output_type": "execute_result"
    }
   ],
   "execution_count": 3
  },
  {
   "metadata": {
    "ExecuteTime": {
     "end_time": "2025-07-13T15:46:30.906835Z",
     "start_time": "2025-07-13T15:46:30.885114Z"
    }
   },
   "cell_type": "code",
   "source": "df.head()",
   "id": "b80bc34368aec5d7",
   "outputs": [
    {
     "data": {
      "text/plain": [
       "   Roll_no  Hindi  English  Science  Maths  History  Geograpgy  Total  Gender\n",
       "0        1     94       56        4     67       91         50    362  Female\n",
       "1        2      7       85       76     99       60         25    352  Female\n",
       "2        3     88       46       59     94       52         38    377  Female\n",
       "3        4     39       81       37     38        6         54    255  Female\n",
       "4        5     51       43       14     53       64         59    284  Female"
      ],
      "text/html": [
       "<div>\n",
       "<style scoped>\n",
       "    .dataframe tbody tr th:only-of-type {\n",
       "        vertical-align: middle;\n",
       "    }\n",
       "\n",
       "    .dataframe tbody tr th {\n",
       "        vertical-align: top;\n",
       "    }\n",
       "\n",
       "    .dataframe thead th {\n",
       "        text-align: right;\n",
       "    }\n",
       "</style>\n",
       "<table border=\"1\" class=\"dataframe\">\n",
       "  <thead>\n",
       "    <tr style=\"text-align: right;\">\n",
       "      <th></th>\n",
       "      <th>Roll_no</th>\n",
       "      <th>Hindi</th>\n",
       "      <th>English</th>\n",
       "      <th>Science</th>\n",
       "      <th>Maths</th>\n",
       "      <th>History</th>\n",
       "      <th>Geograpgy</th>\n",
       "      <th>Total</th>\n",
       "      <th>Gender</th>\n",
       "    </tr>\n",
       "  </thead>\n",
       "  <tbody>\n",
       "    <tr>\n",
       "      <th>0</th>\n",
       "      <td>1</td>\n",
       "      <td>94</td>\n",
       "      <td>56</td>\n",
       "      <td>4</td>\n",
       "      <td>67</td>\n",
       "      <td>91</td>\n",
       "      <td>50</td>\n",
       "      <td>362</td>\n",
       "      <td>Female</td>\n",
       "    </tr>\n",
       "    <tr>\n",
       "      <th>1</th>\n",
       "      <td>2</td>\n",
       "      <td>7</td>\n",
       "      <td>85</td>\n",
       "      <td>76</td>\n",
       "      <td>99</td>\n",
       "      <td>60</td>\n",
       "      <td>25</td>\n",
       "      <td>352</td>\n",
       "      <td>Female</td>\n",
       "    </tr>\n",
       "    <tr>\n",
       "      <th>2</th>\n",
       "      <td>3</td>\n",
       "      <td>88</td>\n",
       "      <td>46</td>\n",
       "      <td>59</td>\n",
       "      <td>94</td>\n",
       "      <td>52</td>\n",
       "      <td>38</td>\n",
       "      <td>377</td>\n",
       "      <td>Female</td>\n",
       "    </tr>\n",
       "    <tr>\n",
       "      <th>3</th>\n",
       "      <td>4</td>\n",
       "      <td>39</td>\n",
       "      <td>81</td>\n",
       "      <td>37</td>\n",
       "      <td>38</td>\n",
       "      <td>6</td>\n",
       "      <td>54</td>\n",
       "      <td>255</td>\n",
       "      <td>Female</td>\n",
       "    </tr>\n",
       "    <tr>\n",
       "      <th>4</th>\n",
       "      <td>5</td>\n",
       "      <td>51</td>\n",
       "      <td>43</td>\n",
       "      <td>14</td>\n",
       "      <td>53</td>\n",
       "      <td>64</td>\n",
       "      <td>59</td>\n",
       "      <td>284</td>\n",
       "      <td>Female</td>\n",
       "    </tr>\n",
       "  </tbody>\n",
       "</table>\n",
       "</div>"
      ]
     },
     "execution_count": 4,
     "metadata": {},
     "output_type": "execute_result"
    }
   ],
   "execution_count": 4
  },
  {
   "metadata": {
    "ExecuteTime": {
     "end_time": "2025-07-13T15:46:50.400694Z",
     "start_time": "2025-07-13T15:46:50.384406Z"
    }
   },
   "cell_type": "code",
   "source": "df.tail()",
   "id": "4c85da2b8082236",
   "outputs": [
    {
     "data": {
      "text/plain": [
       "     Roll_no  Hindi  English  Science  Maths  History  Geograpgy  Total Gender\n",
       "995      996     42       62       25     87       51         68    335   Male\n",
       "996      997      9       83       70     14       11         78    265   Male\n",
       "997      998     23       82       31     42       84         52    314   Male\n",
       "998      999     75       78       68     33       79         91    424   Male\n",
       "999     1000     72       25       74     89       91         27    378   Male"
      ],
      "text/html": [
       "<div>\n",
       "<style scoped>\n",
       "    .dataframe tbody tr th:only-of-type {\n",
       "        vertical-align: middle;\n",
       "    }\n",
       "\n",
       "    .dataframe tbody tr th {\n",
       "        vertical-align: top;\n",
       "    }\n",
       "\n",
       "    .dataframe thead th {\n",
       "        text-align: right;\n",
       "    }\n",
       "</style>\n",
       "<table border=\"1\" class=\"dataframe\">\n",
       "  <thead>\n",
       "    <tr style=\"text-align: right;\">\n",
       "      <th></th>\n",
       "      <th>Roll_no</th>\n",
       "      <th>Hindi</th>\n",
       "      <th>English</th>\n",
       "      <th>Science</th>\n",
       "      <th>Maths</th>\n",
       "      <th>History</th>\n",
       "      <th>Geograpgy</th>\n",
       "      <th>Total</th>\n",
       "      <th>Gender</th>\n",
       "    </tr>\n",
       "  </thead>\n",
       "  <tbody>\n",
       "    <tr>\n",
       "      <th>995</th>\n",
       "      <td>996</td>\n",
       "      <td>42</td>\n",
       "      <td>62</td>\n",
       "      <td>25</td>\n",
       "      <td>87</td>\n",
       "      <td>51</td>\n",
       "      <td>68</td>\n",
       "      <td>335</td>\n",
       "      <td>Male</td>\n",
       "    </tr>\n",
       "    <tr>\n",
       "      <th>996</th>\n",
       "      <td>997</td>\n",
       "      <td>9</td>\n",
       "      <td>83</td>\n",
       "      <td>70</td>\n",
       "      <td>14</td>\n",
       "      <td>11</td>\n",
       "      <td>78</td>\n",
       "      <td>265</td>\n",
       "      <td>Male</td>\n",
       "    </tr>\n",
       "    <tr>\n",
       "      <th>997</th>\n",
       "      <td>998</td>\n",
       "      <td>23</td>\n",
       "      <td>82</td>\n",
       "      <td>31</td>\n",
       "      <td>42</td>\n",
       "      <td>84</td>\n",
       "      <td>52</td>\n",
       "      <td>314</td>\n",
       "      <td>Male</td>\n",
       "    </tr>\n",
       "    <tr>\n",
       "      <th>998</th>\n",
       "      <td>999</td>\n",
       "      <td>75</td>\n",
       "      <td>78</td>\n",
       "      <td>68</td>\n",
       "      <td>33</td>\n",
       "      <td>79</td>\n",
       "      <td>91</td>\n",
       "      <td>424</td>\n",
       "      <td>Male</td>\n",
       "    </tr>\n",
       "    <tr>\n",
       "      <th>999</th>\n",
       "      <td>1000</td>\n",
       "      <td>72</td>\n",
       "      <td>25</td>\n",
       "      <td>74</td>\n",
       "      <td>89</td>\n",
       "      <td>91</td>\n",
       "      <td>27</td>\n",
       "      <td>378</td>\n",
       "      <td>Male</td>\n",
       "    </tr>\n",
       "  </tbody>\n",
       "</table>\n",
       "</div>"
      ]
     },
     "execution_count": 6,
     "metadata": {},
     "output_type": "execute_result"
    }
   ],
   "execution_count": 6
  },
  {
   "metadata": {
    "ExecuteTime": {
     "end_time": "2025-07-13T15:48:58.474720Z",
     "start_time": "2025-07-13T15:48:58.425562Z"
    }
   },
   "cell_type": "code",
   "source": "df.describe()",
   "id": "1548a563698ef0aa",
   "outputs": [
    {
     "data": {
      "text/plain": [
       "           Roll_no        Hindi      English      Science        Maths  \\\n",
       "count  1000.000000  1000.000000  1000.000000  1000.000000  1000.000000   \n",
       "mean    500.500000    51.652000    50.125000    49.455000    49.639000   \n",
       "std     288.819436    29.475918    28.031038    28.929966    28.621633   \n",
       "min       1.000000     0.000000     0.000000     0.000000     0.000000   \n",
       "25%     250.750000    26.000000    26.000000    25.000000    26.000000   \n",
       "50%     500.500000    53.000000    50.500000    50.000000    49.000000   \n",
       "75%     750.250000    77.000000    75.000000    74.000000    74.000000   \n",
       "max    1000.000000    99.000000    99.000000    99.000000    99.000000   \n",
       "\n",
       "           History    Geograpgy        Total  \n",
       "count  1000.000000  1000.000000  1000.000000  \n",
       "mean     49.054000    50.018000   299.943000  \n",
       "std      28.791979    28.716551    71.886768  \n",
       "min       0.000000     0.000000   103.000000  \n",
       "25%      24.000000    26.000000   254.000000  \n",
       "50%      49.000000    49.000000   296.000000  \n",
       "75%      74.000000    75.000000   350.000000  \n",
       "max      99.000000    99.000000   505.000000  "
      ],
      "text/html": [
       "<div>\n",
       "<style scoped>\n",
       "    .dataframe tbody tr th:only-of-type {\n",
       "        vertical-align: middle;\n",
       "    }\n",
       "\n",
       "    .dataframe tbody tr th {\n",
       "        vertical-align: top;\n",
       "    }\n",
       "\n",
       "    .dataframe thead th {\n",
       "        text-align: right;\n",
       "    }\n",
       "</style>\n",
       "<table border=\"1\" class=\"dataframe\">\n",
       "  <thead>\n",
       "    <tr style=\"text-align: right;\">\n",
       "      <th></th>\n",
       "      <th>Roll_no</th>\n",
       "      <th>Hindi</th>\n",
       "      <th>English</th>\n",
       "      <th>Science</th>\n",
       "      <th>Maths</th>\n",
       "      <th>History</th>\n",
       "      <th>Geograpgy</th>\n",
       "      <th>Total</th>\n",
       "    </tr>\n",
       "  </thead>\n",
       "  <tbody>\n",
       "    <tr>\n",
       "      <th>count</th>\n",
       "      <td>1000.000000</td>\n",
       "      <td>1000.000000</td>\n",
       "      <td>1000.000000</td>\n",
       "      <td>1000.000000</td>\n",
       "      <td>1000.000000</td>\n",
       "      <td>1000.000000</td>\n",
       "      <td>1000.000000</td>\n",
       "      <td>1000.000000</td>\n",
       "    </tr>\n",
       "    <tr>\n",
       "      <th>mean</th>\n",
       "      <td>500.500000</td>\n",
       "      <td>51.652000</td>\n",
       "      <td>50.125000</td>\n",
       "      <td>49.455000</td>\n",
       "      <td>49.639000</td>\n",
       "      <td>49.054000</td>\n",
       "      <td>50.018000</td>\n",
       "      <td>299.943000</td>\n",
       "    </tr>\n",
       "    <tr>\n",
       "      <th>std</th>\n",
       "      <td>288.819436</td>\n",
       "      <td>29.475918</td>\n",
       "      <td>28.031038</td>\n",
       "      <td>28.929966</td>\n",
       "      <td>28.621633</td>\n",
       "      <td>28.791979</td>\n",
       "      <td>28.716551</td>\n",
       "      <td>71.886768</td>\n",
       "    </tr>\n",
       "    <tr>\n",
       "      <th>min</th>\n",
       "      <td>1.000000</td>\n",
       "      <td>0.000000</td>\n",
       "      <td>0.000000</td>\n",
       "      <td>0.000000</td>\n",
       "      <td>0.000000</td>\n",
       "      <td>0.000000</td>\n",
       "      <td>0.000000</td>\n",
       "      <td>103.000000</td>\n",
       "    </tr>\n",
       "    <tr>\n",
       "      <th>25%</th>\n",
       "      <td>250.750000</td>\n",
       "      <td>26.000000</td>\n",
       "      <td>26.000000</td>\n",
       "      <td>25.000000</td>\n",
       "      <td>26.000000</td>\n",
       "      <td>24.000000</td>\n",
       "      <td>26.000000</td>\n",
       "      <td>254.000000</td>\n",
       "    </tr>\n",
       "    <tr>\n",
       "      <th>50%</th>\n",
       "      <td>500.500000</td>\n",
       "      <td>53.000000</td>\n",
       "      <td>50.500000</td>\n",
       "      <td>50.000000</td>\n",
       "      <td>49.000000</td>\n",
       "      <td>49.000000</td>\n",
       "      <td>49.000000</td>\n",
       "      <td>296.000000</td>\n",
       "    </tr>\n",
       "    <tr>\n",
       "      <th>75%</th>\n",
       "      <td>750.250000</td>\n",
       "      <td>77.000000</td>\n",
       "      <td>75.000000</td>\n",
       "      <td>74.000000</td>\n",
       "      <td>74.000000</td>\n",
       "      <td>74.000000</td>\n",
       "      <td>75.000000</td>\n",
       "      <td>350.000000</td>\n",
       "    </tr>\n",
       "    <tr>\n",
       "      <th>max</th>\n",
       "      <td>1000.000000</td>\n",
       "      <td>99.000000</td>\n",
       "      <td>99.000000</td>\n",
       "      <td>99.000000</td>\n",
       "      <td>99.000000</td>\n",
       "      <td>99.000000</td>\n",
       "      <td>99.000000</td>\n",
       "      <td>505.000000</td>\n",
       "    </tr>\n",
       "  </tbody>\n",
       "</table>\n",
       "</div>"
      ]
     },
     "execution_count": 7,
     "metadata": {},
     "output_type": "execute_result"
    }
   ],
   "execution_count": 7
  },
  {
   "metadata": {
    "ExecuteTime": {
     "end_time": "2025-07-13T15:50:09.963744Z",
     "start_time": "2025-07-13T15:50:09.940596Z"
    }
   },
   "cell_type": "code",
   "source": "df.info()",
   "id": "a2076a6185b16ae1",
   "outputs": [
    {
     "name": "stdout",
     "output_type": "stream",
     "text": [
      "<class 'pandas.core.frame.DataFrame'>\n",
      "RangeIndex: 1000 entries, 0 to 999\n",
      "Data columns (total 9 columns):\n",
      " #   Column     Non-Null Count  Dtype \n",
      "---  ------     --------------  ----- \n",
      " 0   Roll_no    1000 non-null   int64 \n",
      " 1   Hindi      1000 non-null   int64 \n",
      " 2   English    1000 non-null   int64 \n",
      " 3   Science    1000 non-null   int64 \n",
      " 4   Maths      1000 non-null   int64 \n",
      " 5   History    1000 non-null   int64 \n",
      " 6   Geograpgy  1000 non-null   int64 \n",
      " 7   Total      1000 non-null   int64 \n",
      " 8   Gender     1000 non-null   object\n",
      "dtypes: int64(8), object(1)\n",
      "memory usage: 70.4+ KB\n"
     ]
    }
   ],
   "execution_count": 8
  },
  {
   "metadata": {
    "ExecuteTime": {
     "end_time": "2025-07-13T15:51:10.136033Z",
     "start_time": "2025-07-13T15:51:10.125866Z"
    }
   },
   "cell_type": "code",
   "source": [
    "df['Gender'].value_counts()\n",
    "#we can see there are more male students"
   ],
   "id": "d9118e43991d497c",
   "outputs": [
    {
     "data": {
      "text/plain": [
       "Gender\n",
       "Male      600\n",
       "Female    400\n",
       "Name: count, dtype: int64"
      ]
     },
     "execution_count": 10,
     "metadata": {},
     "output_type": "execute_result"
    }
   ],
   "execution_count": 10
  },
  {
   "metadata": {
    "ExecuteTime": {
     "end_time": "2025-07-13T18:15:38.672954Z",
     "start_time": "2025-07-13T18:15:38.659607Z"
    }
   },
   "cell_type": "code",
   "source": "df.shape",
   "id": "960d4cd018d71d05",
   "outputs": [
    {
     "data": {
      "text/plain": [
       "(1000, 9)"
      ]
     },
     "execution_count": 6,
     "metadata": {},
     "output_type": "execute_result"
    }
   ],
   "execution_count": 6
  },
  {
   "metadata": {
    "ExecuteTime": {
     "end_time": "2025-07-13T18:15:52.220264Z",
     "start_time": "2025-07-13T18:15:52.209979Z"
    }
   },
   "cell_type": "code",
   "source": "df.size",
   "id": "f045d571af4d5eb9",
   "outputs": [
    {
     "data": {
      "text/plain": [
       "9000"
      ]
     },
     "execution_count": 7,
     "metadata": {},
     "output_type": "execute_result"
    }
   ],
   "execution_count": 7
  },
  {
   "metadata": {
    "ExecuteTime": {
     "end_time": "2025-07-13T18:15:59.679447Z",
     "start_time": "2025-07-13T18:15:59.657026Z"
    }
   },
   "cell_type": "code",
   "source": "df.columns",
   "id": "d5ae4fda6e3f538e",
   "outputs": [
    {
     "data": {
      "text/plain": [
       "Index(['Roll_no', 'Hindi', 'English', 'Science', 'Maths', 'History',\n",
       "       'Geograpgy', 'Total', 'Gender'],\n",
       "      dtype='object')"
      ]
     },
     "execution_count": 8,
     "metadata": {},
     "output_type": "execute_result"
    }
   ],
   "execution_count": 8
  },
  {
   "metadata": {
    "ExecuteTime": {
     "end_time": "2025-07-13T18:16:11.085579Z",
     "start_time": "2025-07-13T18:16:11.050521Z"
    }
   },
   "cell_type": "code",
   "source": "df.nunique()",
   "id": "92b10e309e3313b9",
   "outputs": [
    {
     "data": {
      "text/plain": [
       "Roll_no      1000\n",
       "Hindi         100\n",
       "English       100\n",
       "Science       100\n",
       "Maths         100\n",
       "History       100\n",
       "Geograpgy     100\n",
       "Total         298\n",
       "Gender          2\n",
       "dtype: int64"
      ]
     },
     "execution_count": 9,
     "metadata": {},
     "output_type": "execute_result"
    }
   ],
   "execution_count": 9
  },
  {
   "metadata": {
    "ExecuteTime": {
     "end_time": "2025-07-13T18:16:38.917361Z",
     "start_time": "2025-07-13T18:16:38.907290Z"
    }
   },
   "cell_type": "code",
   "source": "df.isnull().sum()",
   "id": "1dc6db2a1a007d2f",
   "outputs": [
    {
     "data": {
      "text/plain": [
       "Roll_no      0\n",
       "Hindi        0\n",
       "English      0\n",
       "Science      0\n",
       "Maths        0\n",
       "History      0\n",
       "Geograpgy    0\n",
       "Total        0\n",
       "Gender       0\n",
       "dtype: int64"
      ]
     },
     "execution_count": 11,
     "metadata": {},
     "output_type": "execute_result"
    }
   ],
   "execution_count": 11
  },
  {
   "metadata": {},
   "cell_type": "code",
   "outputs": [],
   "execution_count": null,
   "source": "",
   "id": "db198babb7872c78"
  }
 ],
 "metadata": {
  "kernelspec": {
   "display_name": "Python 3",
   "language": "python",
   "name": "python3"
  },
  "language_info": {
   "codemirror_mode": {
    "name": "ipython",
    "version": 2
   },
   "file_extension": ".py",
   "mimetype": "text/x-python",
   "name": "python",
   "nbconvert_exporter": "python",
   "pygments_lexer": "ipython2",
   "version": "2.7.6"
  }
 },
 "nbformat": 4,
 "nbformat_minor": 5
}
